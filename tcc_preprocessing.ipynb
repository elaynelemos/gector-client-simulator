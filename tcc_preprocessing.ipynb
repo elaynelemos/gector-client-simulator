{
  "nbformat": 4,
  "nbformat_minor": 0,
  "metadata": {
    "colab": {
      "provenance": [],
      "collapsed_sections": []
    },
    "kernelspec": {
      "name": "python3",
      "display_name": "Python 3"
    },
    "language_info": {
      "name": "python"
    }
  },
  "cells": [
    {
      "cell_type": "markdown",
      "source": [
        "# TCC Sentences Preprocessing"
      ],
      "metadata": {
        "id": "j61vTyo2T4-f"
      }
    },
    {
      "cell_type": "markdown",
      "source": [
        "### Loading dataset"
      ],
      "metadata": {
        "id": "10VHXn2wUKsf"
      }
    },
    {
      "cell_type": "code",
      "execution_count": 1,
      "metadata": {
        "id": "GQZk4IFrDnAQ"
      },
      "outputs": [],
      "source": [
        "import numpy as np\n",
        "\n",
        "input_path = 'data/official-2014.combined.m2'\n",
        "\n",
        "with open(input_path, 'r', encoding='utf-8') as f:\n",
        "  data = f.read().splitlines()"
      ]
    },
    {
      "cell_type": "markdown",
      "source": [
        "### Selecting randomized sentences subset"
      ],
      "metadata": {
        "id": "nCQ2p6YgUS_B"
      }
    },
    {
      "cell_type": "code",
      "source": [
        "sentences = [ s for s in data if s.startswith('S') ]\n",
        "\n",
        "for i in range(11):\n",
        "  n_sentences = 2**i\n",
        "  write_path = f'data/official-2014.{n_sentences}-sentences.combined.src'\n",
        "\n",
        "  with open(write_path, 'w', encoding='utf-8') as f:\n",
        "    s_array = np.random.choice(sentences, size=n_sentences,replace=False)\n",
        "    output = [ item.replace('S ', '') for item in s_array ]\n",
        "    f.writelines('\\n'.join(output))"
      ],
      "metadata": {
        "id": "BPP1FqZJG4cb"
      },
      "execution_count": 2,
      "outputs": []
    },
    {
      "cell_type": "markdown",
      "source": [
        "#### Subset example"
      ],
      "metadata": {
        "id": "SlUVkoz4UtH_"
      }
    },
    {
      "cell_type": "code",
      "source": [
        "with open('data/official-2014.4-sentences.combined.src','r') as f:\n",
        "  print(f.read())"
      ],
      "metadata": {
        "colab": {
          "base_uri": "https://localhost:8080/"
        },
        "id": "JlI9cBQURgGo",
        "outputId": "1c955b2e-66e9-448e-c469-6243332b3ee4"
      },
      "execution_count": 3,
      "outputs": [
        {
          "output_type": "stream",
          "name": "stdout",
          "text": [
            "For example , if an unmarried person has gene Aa and gene aa is sufficient for a very seriou disease .\n",
            "The inclusion of intimate presence and relative touch could also bring a better rapport between those interacting .\n",
            "People should avoid the misuse of socia media and use it in the proper way .\n",
            "People connecting through the social media sites can spend no money on the communication , and also take only one or a few seconds for the message to reach .\n"
          ]
        }
      ]
    }
  ]
}